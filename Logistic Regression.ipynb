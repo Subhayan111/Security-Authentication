{
 "cells": [
  {
   "cell_type": "markdown",
   "id": "1e4a890c-01d6-4848-92cc-bcbf655452b1",
   "metadata": {},
   "source": [
    "### Logistic Regression Model"
   ]
  },
  {
   "cell_type": "code",
   "execution_count": 1,
   "id": "fd734d2a-ec0d-4a0e-9e9b-91eded5ea7bf",
   "metadata": {},
   "outputs": [],
   "source": [
    "# Import Required Libraries\n",
    "\n",
    "import pandas as pd\n",
    "from sklearn.model_selection import train_test_split\n",
    "from sklearn.linear_model import LogisticRegression\n",
    "from sklearn.metrics import accuracy_score, classification_report\n"
   ]
  },
  {
   "cell_type": "code",
   "execution_count": 2,
   "id": "85deb9d7-18a0-4a9e-a913-890927a44080",
   "metadata": {},
   "outputs": [
    {
     "name": "stdout",
     "output_type": "stream",
     "text": [
      "<class 'pandas.core.frame.DataFrame'>\n",
      "RangeIndex: 2000 entries, 0 to 1999\n",
      "Data columns (total 3 columns):\n",
      " #   Column     Non-Null Count  Dtype \n",
      "---  ------     --------------  ----- \n",
      " 0   BID        2000 non-null   int64 \n",
      " 1   Bitstream  2000 non-null   object\n",
      " 2   class      2000 non-null   int64 \n",
      "dtypes: int64(2), object(1)\n",
      "memory usage: 47.0+ KB\n",
      "None\n",
      "   BID                                          Bitstream  class\n",
      "0    0  1000111010111101101100110111001111001000101111...      1\n",
      "1    1  1101111100101011111111101101010001110110000010...      1\n",
      "2    2  0011001010001010100100011101000111110100101111...      0\n",
      "3    3  1101010110000110100001001100111101000000110001...      1\n",
      "4    4  1010111100001001000101010010111010011101001100...      1\n"
     ]
    }
   ],
   "source": [
    "# Load the dataset\n",
    "data = pd.read_csv('TrainingData.csv')\n",
    "\n",
    "# Display basic information\n",
    "print(data.info())\n",
    "\n",
    "# Check the first 5 rows\n",
    "print(data.head())\n"
   ]
  },
  {
   "cell_type": "code",
   "execution_count": 3,
   "id": "6a4b3f91-a163-4c48-aa19-94e1d631b1cc",
   "metadata": {},
   "outputs": [
    {
     "name": "stdout",
     "output_type": "stream",
     "text": [
      "Label distribution:\n",
      " class\n",
      "1    1000\n",
      "0    1000\n",
      "Name: count, dtype: int64\n"
     ]
    }
   ],
   "source": [
    "# Analyze the distribution of the labels\n",
    "label_distribution = data['class'].value_counts()\n",
    "print(\"Label distribution:\\n\", label_distribution)\n"
   ]
  },
  {
   "cell_type": "code",
   "execution_count": 4,
   "id": "591a090f-1e0a-47f9-9707-fe4e57ee9cdf",
   "metadata": {},
   "outputs": [],
   "source": [
    "# Convert bitstreams into numerical features\n",
    "def bitstream_to_features(bitstream):\n",
    "    return [int(bit) for bit in bitstream]\n",
    "\n",
    "# Apply transformation\n",
    "X = data['Bitstream'].apply(bitstream_to_features).tolist()\n",
    "y = data['class']\n"
   ]
  },
  {
   "cell_type": "code",
   "execution_count": 5,
   "id": "d13a83df-37a1-483f-8382-df5c3b9fabaf",
   "metadata": {},
   "outputs": [
    {
     "name": "stdout",
     "output_type": "stream",
     "text": [
      "Training samples: 1600, Test samples: 400\n"
     ]
    }
   ],
   "source": [
    "# Split into training and test sets\n",
    "X_train, X_test, y_train, y_test = train_test_split(X, y, test_size=0.2, random_state=42, stratify=y)\n",
    "\n",
    "# Confirm the shapes of the splits\n",
    "print(f\"Training samples: {len(X_train)}, Test samples: {len(X_test)}\")\n"
   ]
  },
  {
   "cell_type": "code",
   "execution_count": 6,
   "id": "a8b2e1a5-5abf-4dea-8c13-49c640bcdb60",
   "metadata": {},
   "outputs": [
    {
     "name": "stdout",
     "output_type": "stream",
     "text": [
      "Accuracy: 0.5125\n",
      "\n",
      "Classification Report:\n",
      "               precision    recall  f1-score   support\n",
      "\n",
      "           0       0.51      0.52      0.52       200\n",
      "           1       0.51      0.51      0.51       200\n",
      "\n",
      "    accuracy                           0.51       400\n",
      "   macro avg       0.51      0.51      0.51       400\n",
      "weighted avg       0.51      0.51      0.51       400\n",
      "\n"
     ]
    }
   ],
   "source": [
    "# Train Logistic Regression\n",
    "logreg = LogisticRegression(max_iter=500, random_state=42)\n",
    "logreg.fit(X_train, y_train)\n",
    "\n",
    "# Make predictions\n",
    "y_pred = logreg.predict(X_test)\n",
    "\n",
    "# Evaluate the model\n",
    "accuracy = accuracy_score(y_test, y_pred)\n",
    "print(\"Accuracy:\", accuracy)\n",
    "print(\"\\nClassification Report:\\n\", classification_report(y_test, y_pred))\n"
   ]
  },
  {
   "cell_type": "code",
   "execution_count": null,
   "id": "ef558094-62ae-478b-ae6f-ede00be7c86a",
   "metadata": {},
   "outputs": [],
   "source": []
  }
 ],
 "metadata": {
  "kernelspec": {
   "display_name": "Python 3 (ipykernel)",
   "language": "python",
   "name": "python3"
  },
  "language_info": {
   "codemirror_mode": {
    "name": "ipython",
    "version": 3
   },
   "file_extension": ".py",
   "mimetype": "text/x-python",
   "name": "python",
   "nbconvert_exporter": "python",
   "pygments_lexer": "ipython3",
   "version": "3.11.2"
  }
 },
 "nbformat": 4,
 "nbformat_minor": 5
}
