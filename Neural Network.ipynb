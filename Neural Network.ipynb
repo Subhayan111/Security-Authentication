{
 "cells": [
  {
   "cell_type": "markdown",
   "id": "86184252-3f0a-4797-84b5-1998752221b5",
   "metadata": {},
   "source": [
    "### Neural Network Model"
   ]
  },
  {
   "cell_type": "code",
   "execution_count": 1,
   "id": "111ca2c2-a216-45e5-a567-a2b6990963a1",
   "metadata": {},
   "outputs": [],
   "source": [
    "# Import Required Libraries\n",
    "\n",
    "import pandas as pd\n",
    "import numpy as np\n",
    "from sklearn.model_selection import train_test_split\n",
    "from sklearn.metrics import accuracy_score, classification_report\n",
    "from tensorflow.keras.models import Sequential\n",
    "from tensorflow.keras.layers import Dense, Dropout\n",
    "from tensorflow.keras.optimizers import Adam\n"
   ]
  },
  {
   "cell_type": "code",
   "execution_count": 2,
   "id": "23ede883-8bf3-46c1-867b-c2c4fa90165a",
   "metadata": {},
   "outputs": [
    {
     "name": "stdout",
     "output_type": "stream",
     "text": [
      "Dataset Info:\n",
      "<class 'pandas.core.frame.DataFrame'>\n",
      "RangeIndex: 2000 entries, 0 to 1999\n",
      "Data columns (total 3 columns):\n",
      " #   Column     Non-Null Count  Dtype \n",
      "---  ------     --------------  ----- \n",
      " 0   BID        2000 non-null   int64 \n",
      " 1   Bitstream  2000 non-null   object\n",
      " 2   class      2000 non-null   int64 \n",
      "dtypes: int64(2), object(1)\n",
      "memory usage: 47.0+ KB\n",
      "None\n",
      "\n",
      "Sample Data:\n",
      "   BID                                          Bitstream  class\n",
      "0    0  1000111010111101101100110111001111001000101111...      1\n",
      "1    1  1101111100101011111111101101010001110110000010...      1\n",
      "2    2  0011001010001010100100011101000111110100101111...      0\n",
      "3    3  1101010110000110100001001100111101000000110001...      1\n",
      "4    4  1010111100001001000101010010111010011101001100...      1\n"
     ]
    }
   ],
   "source": [
    "# Load and Inspect the Dataset\n",
    "data = pd.read_csv('TrainingData.csv')\n",
    "\n",
    "# Display dataset information\n",
    "print(\"Dataset Info:\")\n",
    "print(data.info())\n",
    "\n",
    "print(\"\\nSample Data:\")\n",
    "print(data.head())\n"
   ]
  },
  {
   "cell_type": "code",
   "execution_count": 3,
   "id": "3fdb1be0-f95a-43bf-a1fd-e31912c113c9",
   "metadata": {},
   "outputs": [
    {
     "name": "stdout",
     "output_type": "stream",
     "text": [
      "\n",
      "Feature Matrix Shape: (2000, 1024)\n",
      "First Feature Vector: [1 0 0 ... 1 1 0]\n",
      "Labels: [1 0]\n"
     ]
    }
   ],
   "source": [
    "# Convert Bitstream to Numeric Features\n",
    "\n",
    "def bitstream_to_features(bitstream):\n",
    "    return [int(bit) for bit in bitstream]\n",
    "\n",
    "bit_features = data['Bitstream'].apply(bitstream_to_features).tolist()\n",
    "X = np.array(bit_features)  # Feature matrix (shape: [n_samples, 1024])\n",
    "y = data['class']           # Target labels (0 or 1)\n",
    "\n",
    "print(\"\\nFeature Matrix Shape:\", X.shape)\n",
    "print(\"First Feature Vector:\", X[0])\n",
    "print(\"Labels:\", y.unique())\n"
   ]
  },
  {
   "cell_type": "code",
   "execution_count": 4,
   "id": "ae0f1a16-44f3-41b5-9e94-b18917e3d4eb",
   "metadata": {},
   "outputs": [
    {
     "name": "stdout",
     "output_type": "stream",
     "text": [
      "\n",
      "Training Set Shape: (1600, 1024)\n",
      "Testing Set Shape: (400, 1024)\n"
     ]
    }
   ],
   "source": [
    "# Train-Test Split\n",
    "\n",
    "X_train, X_test, y_train, y_test = train_test_split(\n",
    "    X, y, test_size=0.2, random_state=42, stratify=y\n",
    ")\n",
    "\n",
    "print(\"\\nTraining Set Shape:\", X_train.shape)\n",
    "print(\"Testing Set Shape:\", X_test.shape)\n"
   ]
  },
  {
   "cell_type": "code",
   "execution_count": 5,
   "id": "e765ed73-364d-4dc0-85c5-ed8d87685509",
   "metadata": {},
   "outputs": [
    {
     "name": "stderr",
     "output_type": "stream",
     "text": [
      "C:\\Python 311\\Lib\\site-packages\\keras\\src\\layers\\core\\dense.py:87: UserWarning: Do not pass an `input_shape`/`input_dim` argument to a layer. When using Sequential models, prefer using an `Input(shape)` object as the first layer in the model instead.\n",
      "  super().__init__(activity_regularizer=activity_regularizer, **kwargs)\n"
     ]
    }
   ],
   "source": [
    "# Define the Neural Network architecture\n",
    "model = Sequential([\n",
    "    Dense(512, activation='relu', input_dim=1024),  # First hidden layer\n",
    "    Dropout(0.3),                                   # Dropout for regularization\n",
    "    Dense(256, activation='relu'),                  # Second hidden layer\n",
    "    Dropout(0.3),                                   # Dropout for regularization\n",
    "    Dense(1, activation='sigmoid')                  # Output layer (binary classification)\n",
    "])\n",
    "\n",
    "# Compile the model\n",
    "model.compile(optimizer=Adam(learning_rate=0.001),  # Optimizer\n",
    "              loss='binary_crossentropy',           # Loss function for binary classification\n",
    "              metrics=['accuracy'])                 # Metric to monitor\n"
   ]
  },
  {
   "cell_type": "code",
   "execution_count": 6,
   "id": "b3702587-3147-4d2c-9a1c-c916ce568921",
   "metadata": {},
   "outputs": [
    {
     "name": "stdout",
     "output_type": "stream",
     "text": [
      "Epoch 1/20\n",
      "\u001b[1m40/40\u001b[0m \u001b[32m━━━━━━━━━━━━━━━━━━━━\u001b[0m\u001b[37m\u001b[0m \u001b[1m4s\u001b[0m 26ms/step - accuracy: 0.4970 - loss: 0.8512 - val_accuracy: 0.5219 - val_loss: 0.6938\n",
      "Epoch 2/20\n",
      "\u001b[1m40/40\u001b[0m \u001b[32m━━━━━━━━━━━━━━━━━━━━\u001b[0m\u001b[37m\u001b[0m \u001b[1m1s\u001b[0m 25ms/step - accuracy: 0.5337 - loss: 0.6877 - val_accuracy: 0.4906 - val_loss: 0.7036\n",
      "Epoch 3/20\n",
      "\u001b[1m40/40\u001b[0m \u001b[32m━━━━━━━━━━━━━━━━━━━━\u001b[0m\u001b[37m\u001b[0m \u001b[1m1s\u001b[0m 10ms/step - accuracy: 0.5924 - loss: 0.6715 - val_accuracy: 0.4938 - val_loss: 0.7174\n",
      "Epoch 4/20\n",
      "\u001b[1m40/40\u001b[0m \u001b[32m━━━━━━━━━━━━━━━━━━━━\u001b[0m\u001b[37m\u001b[0m \u001b[1m0s\u001b[0m 9ms/step - accuracy: 0.6525 - loss: 0.6256 - val_accuracy: 0.4531 - val_loss: 0.7946\n",
      "Epoch 5/20\n",
      "\u001b[1m40/40\u001b[0m \u001b[32m━━━━━━━━━━━━━━━━━━━━\u001b[0m\u001b[37m\u001b[0m \u001b[1m0s\u001b[0m 10ms/step - accuracy: 0.7150 - loss: 0.5555 - val_accuracy: 0.5406 - val_loss: 0.7555\n",
      "Epoch 6/20\n",
      "\u001b[1m40/40\u001b[0m \u001b[32m━━━━━━━━━━━━━━━━━━━━\u001b[0m\u001b[37m\u001b[0m \u001b[1m0s\u001b[0m 9ms/step - accuracy: 0.7692 - loss: 0.4845 - val_accuracy: 0.5312 - val_loss: 0.9576\n",
      "Epoch 7/20\n",
      "\u001b[1m40/40\u001b[0m \u001b[32m━━━━━━━━━━━━━━━━━━━━\u001b[0m\u001b[37m\u001b[0m \u001b[1m1s\u001b[0m 11ms/step - accuracy: 0.7764 - loss: 0.4533 - val_accuracy: 0.4688 - val_loss: 1.0333\n",
      "Epoch 8/20\n",
      "\u001b[1m40/40\u001b[0m \u001b[32m━━━━━━━━━━━━━━━━━━━━\u001b[0m\u001b[37m\u001b[0m \u001b[1m0s\u001b[0m 9ms/step - accuracy: 0.8603 - loss: 0.3497 - val_accuracy: 0.5219 - val_loss: 0.9323\n",
      "Epoch 9/20\n",
      "\u001b[1m40/40\u001b[0m \u001b[32m━━━━━━━━━━━━━━━━━━━━\u001b[0m\u001b[37m\u001b[0m \u001b[1m1s\u001b[0m 18ms/step - accuracy: 0.8941 - loss: 0.2866 - val_accuracy: 0.4812 - val_loss: 1.0989\n",
      "Epoch 10/20\n",
      "\u001b[1m40/40\u001b[0m \u001b[32m━━━━━━━━━━━━━━━━━━━━\u001b[0m\u001b[37m\u001b[0m \u001b[1m1s\u001b[0m 25ms/step - accuracy: 0.8954 - loss: 0.2664 - val_accuracy: 0.5063 - val_loss: 1.2702\n",
      "Epoch 11/20\n",
      "\u001b[1m40/40\u001b[0m \u001b[32m━━━━━━━━━━━━━━━━━━━━\u001b[0m\u001b[37m\u001b[0m \u001b[1m1s\u001b[0m 20ms/step - accuracy: 0.9552 - loss: 0.1478 - val_accuracy: 0.5437 - val_loss: 1.3772\n",
      "Epoch 12/20\n",
      "\u001b[1m40/40\u001b[0m \u001b[32m━━━━━━━━━━━━━━━━━━━━\u001b[0m\u001b[37m\u001b[0m \u001b[1m1s\u001b[0m 10ms/step - accuracy: 0.9733 - loss: 0.1006 - val_accuracy: 0.5188 - val_loss: 1.3708\n",
      "Epoch 13/20\n",
      "\u001b[1m40/40\u001b[0m \u001b[32m━━━━━━━━━━━━━━━━━━━━\u001b[0m\u001b[37m\u001b[0m \u001b[1m1s\u001b[0m 11ms/step - accuracy: 0.9650 - loss: 0.0986 - val_accuracy: 0.4938 - val_loss: 1.7472\n",
      "Epoch 14/20\n",
      "\u001b[1m40/40\u001b[0m \u001b[32m━━━━━━━━━━━━━━━━━━━━\u001b[0m\u001b[37m\u001b[0m \u001b[1m1s\u001b[0m 11ms/step - accuracy: 0.9628 - loss: 0.1199 - val_accuracy: 0.5562 - val_loss: 1.3574\n",
      "Epoch 15/20\n",
      "\u001b[1m40/40\u001b[0m \u001b[32m━━━━━━━━━━━━━━━━━━━━\u001b[0m\u001b[37m\u001b[0m \u001b[1m0s\u001b[0m 9ms/step - accuracy: 0.9840 - loss: 0.0745 - val_accuracy: 0.5250 - val_loss: 1.6505\n",
      "Epoch 16/20\n",
      "\u001b[1m40/40\u001b[0m \u001b[32m━━━━━━━━━━━━━━━━━━━━\u001b[0m\u001b[37m\u001b[0m \u001b[1m0s\u001b[0m 10ms/step - accuracy: 0.9702 - loss: 0.0879 - val_accuracy: 0.4812 - val_loss: 2.0737\n",
      "Epoch 17/20\n",
      "\u001b[1m40/40\u001b[0m \u001b[32m━━━━━━━━━━━━━━━━━━━━\u001b[0m\u001b[37m\u001b[0m \u001b[1m1s\u001b[0m 12ms/step - accuracy: 0.9565 - loss: 0.1102 - val_accuracy: 0.5344 - val_loss: 2.0092\n",
      "Epoch 18/20\n",
      "\u001b[1m40/40\u001b[0m \u001b[32m━━━━━━━━━━━━━━━━━━━━\u001b[0m\u001b[37m\u001b[0m \u001b[1m1s\u001b[0m 27ms/step - accuracy: 0.9846 - loss: 0.0510 - val_accuracy: 0.5219 - val_loss: 1.8498\n",
      "Epoch 19/20\n",
      "\u001b[1m40/40\u001b[0m \u001b[32m━━━━━━━━━━━━━━━━━━━━\u001b[0m\u001b[37m\u001b[0m \u001b[1m1s\u001b[0m 10ms/step - accuracy: 0.9921 - loss: 0.0362 - val_accuracy: 0.5125 - val_loss: 1.9740\n",
      "Epoch 20/20\n",
      "\u001b[1m40/40\u001b[0m \u001b[32m━━━━━━━━━━━━━━━━━━━━\u001b[0m\u001b[37m\u001b[0m \u001b[1m0s\u001b[0m 10ms/step - accuracy: 0.9833 - loss: 0.0437 - val_accuracy: 0.5219 - val_loss: 2.3774\n"
     ]
    }
   ],
   "source": [
    "# Train the model\n",
    "history = model.fit(\n",
    "    X_train, y_train,\n",
    "    epochs=20,                 # Number of epochs\n",
    "    batch_size=32,             # Batch size\n",
    "    validation_split=0.2,      # Use 20% of the training data for validation\n",
    "    verbose=1                  # Print progress during training\n",
    ")\n"
   ]
  },
  {
   "cell_type": "code",
   "execution_count": 7,
   "id": "a4bf2c97-19bb-4f66-86f5-a4fd6a654de1",
   "metadata": {},
   "outputs": [
    {
     "name": "stdout",
     "output_type": "stream",
     "text": [
      "\u001b[1m13/13\u001b[0m \u001b[32m━━━━━━━━━━━━━━━━━━━━\u001b[0m\u001b[37m\u001b[0m \u001b[1m0s\u001b[0m 5ms/step - accuracy: 0.4772 - loss: 2.4624\n",
      "\n",
      "Test Set Accuracy: 0.5024999976158142\n",
      "\u001b[1m13/13\u001b[0m \u001b[32m━━━━━━━━━━━━━━━━━━━━\u001b[0m\u001b[37m\u001b[0m \u001b[1m0s\u001b[0m 11ms/step\n",
      "\n",
      "Classification Report:\n",
      "              precision    recall  f1-score   support\n",
      "\n",
      "           0       0.50      0.45      0.47       200\n",
      "           1       0.50      0.56      0.53       200\n",
      "\n",
      "    accuracy                           0.50       400\n",
      "   macro avg       0.50      0.50      0.50       400\n",
      "weighted avg       0.50      0.50      0.50       400\n",
      "\n"
     ]
    }
   ],
   "source": [
    "# Evaluate the model on the test set\n",
    "loss, accuracy = model.evaluate(X_test, y_test)\n",
    "print(\"\\nTest Set Accuracy:\", accuracy)\n",
    "\n",
    "# Make predictions\n",
    "y_pred = (model.predict(X_test) > 0.5).astype(\"int32\")\n",
    "\n",
    "# Print classification report\n",
    "print(\"\\nClassification Report:\")\n",
    "print(classification_report(y_test, y_pred))\n"
   ]
  },
  {
   "cell_type": "code",
   "execution_count": null,
   "id": "f2b7a8ec-0c07-4a76-9057-bb50475eea6b",
   "metadata": {},
   "outputs": [],
   "source": []
  }
 ],
 "metadata": {
  "kernelspec": {
   "display_name": "Python 3 (ipykernel)",
   "language": "python",
   "name": "python3"
  },
  "language_info": {
   "codemirror_mode": {
    "name": "ipython",
    "version": 3
   },
   "file_extension": ".py",
   "mimetype": "text/x-python",
   "name": "python",
   "nbconvert_exporter": "python",
   "pygments_lexer": "ipython3",
   "version": "3.11.2"
  }
 },
 "nbformat": 4,
 "nbformat_minor": 5
}
